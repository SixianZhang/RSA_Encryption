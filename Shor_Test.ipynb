{
 "cells": [
  {
   "cell_type": "code",
   "execution_count": 57,
   "metadata": {},
   "outputs": [],
   "source": [
    "import math\n",
    "import time\n",
    "import RSA_Code\n",
    "import matplotlib.pyplot as plt\n",
    "from IPython.core.debugger import set_trace\n",
    "import os, sys\n",
    "import numpy as np\n",
    "import random"
   ]
  },
  {
   "cell_type": "markdown",
   "metadata": {},
   "source": [
    "**Original Code**"
   ]
  },
  {
   "cell_type": "code",
   "execution_count": 2,
   "metadata": {},
   "outputs": [],
   "source": [
    "def factoring_algorithm(N, e):\n",
    "    flag = True\n",
    "    while flag:\n",
    "        if math.gcd(N, e) != 1:\n",
    "            print(\"e must be co-prime to N\")\n",
    "            continue\n",
    "        if N > e > 1:\n",
    "            for r in range(1, N):\n",
    "                while N > 1:\n",
    "                    print(r)\n",
    "                    break\n",
    "                if pow(e, r, N) == 1:\n",
    "                    while N > 1:\n",
    "                        print(\"f(r) = \", pow(e, r, N))\n",
    "                        break\n",
    "                    break\n",
    "            print(\"a = \", e)\n",
    "            print(\"r = \", r)\n",
    "            if r % 2 == 0 and pow(e, r // 2, N) != N - 1:\n",
    "                p = math.gcd(e ** (r // 2) - 1, N)\n",
    "                q = math.gcd(e ** (r // 2) + 1, N)\n",
    "                flag = False\n",
    "            else:\n",
    "                print(\"Error\")\n",
    "    print(\"p: \", p)\n",
    "    print(\"q: \", q)"
   ]
  },
  {
   "cell_type": "code",
   "execution_count": null,
   "metadata": {},
   "outputs": [],
   "source": [
    "sample_time = []\n",
    "t_all = time.time()\n",
    "\n",
    "for b in range(5, 6):\n",
    "    \n",
    "    p, q, n, phi_n, e, d = RSA_Code.key_generation(b)\n",
    "        \n",
    "    sys.stdout = open(os.devnull, \"w\") # <---- \n",
    "    \n",
    "    t_start = time.time()\n",
    "    factoring_algorithm(n, e)\n",
    "    sample_time.append(time.time() - t_start)\n",
    "\n",
    "    sys.stdout = sys.__stdout__ # <-----\n",
    "    \n",
    "print(time.time() - t_all)"
   ]
  },
  {
   "cell_type": "markdown",
   "metadata": {},
   "source": [
    "**Modified**"
   ]
  },
  {
   "cell_type": "code",
   "execution_count": 3,
   "metadata": {},
   "outputs": [],
   "source": [
    "def shor(n):\n",
    "    if n <= 2:\n",
    "        raise ValueError(\"n has to be greater than 2.\")\n",
    "    \n",
    "    for a in range(2, n):\n",
    "        \n",
    "        if math.gcd(a, n) != 1:\n",
    "            # Then we already find the factor\n",
    "            p = math.gcd(a, n)\n",
    "            q = n // p\n",
    "            \n",
    "            if p > q:\n",
    "                p, q = q, p\n",
    "            \n",
    "            return p, q\n",
    "        \n",
    "        else:\n",
    "            \n",
    "            r = 2\n",
    "            \n",
    "            while r < n:\n",
    "                # Check if r satisfies \n",
    "                if pow(a, r, n) == 1:\n",
    "                    if math.gcd(n, pow(a, r//2) - 1) == 1 and math.gcd(n, pow(a, r//2) + 1) == 1:\n",
    "                        p = math.gcd(pow(a, r//2) - 1, n)\n",
    "                        q = math.gcd(pow(a, r//2) + 1, n)\n",
    "                        \n",
    "                        if p > q:\n",
    "                            p, q = q, p\n",
    "                        \n",
    "                        return p, q\n",
    "\n",
    "                # If not, find next r\n",
    "                r += 2\n",
    "    \n",
    "    # If every a is tried, then there is no factors for n.\n",
    "    # Return (1, n)\n",
    "    return 1, n"
   ]
  },
  {
   "cell_type": "code",
   "execution_count": 25,
   "metadata": {},
   "outputs": [],
   "source": [
    "sample_time = []\n",
    "bit_lengths = []"
   ]
  },
  {
   "cell_type": "code",
   "execution_count": null,
   "metadata": {},
   "outputs": [],
   "source": [
    "%pdb\n",
    "t_all = time.time()\n",
    "for n_sample in range(0, 1000):\n",
    "    \n",
    "    sys.stdout.flush()\n",
    "    \n",
    "    b = random.randint(5,10)\n",
    "    \n",
    "    p, q, n, phi_n, e, d = RSA_Code.key_generation(b)\n",
    "    \n",
    "    print(str(n.bit_length()) + \" bits\")\n",
    "\n",
    "    \n",
    "    if p > q:\n",
    "        p, q = q, p\n",
    "    \n",
    "    t_start = time.time()\n",
    "    p_, q_ = shor(n)\n",
    "    if p == p_ and q == q_:\n",
    "        sample_time.append(time.time() - t_start)\n",
    "        bit_lengths.append(n.bit_length())\n",
    "        \n",
    "        dat = np.asarray([bit_lengths, sample_time])\n",
    "        np.savetxt('shor_data.csv', dat, delimiter=',')\n",
    "        \n",
    "    else:\n",
    "        set_trace()\n",
    "    \n",
    "print(time.time() - t_all)"
   ]
  },
  {
   "cell_type": "code",
   "execution_count": 55,
   "metadata": {},
   "outputs": [
    {
     "data": {
      "text/plain": [
       "[<matplotlib.lines.Line2D at 0x7fc479b57c18>]"
      ]
     },
     "execution_count": 55,
     "metadata": {},
     "output_type": "execute_result"
    },
    {
     "data": {
      "image/png": "[encoded data removed]",
      "text/plain": [
       "<Figure size 432x288 with 1 Axes>"
      ]
     },
     "metadata": {
      "needs_background": "light"
     },
     "output_type": "display_data"
    }
   ],
   "source": [
    "plt.plot(bit_lengths,sample_time,'o')"
   ]
  },
  {
   "cell_type": "code",
   "execution_count": 56,
   "metadata": {
    "collapsed": true,
    "jupyter": {
     "outputs_hidden": true
    }
   },
   "outputs": [
    {
     "data": {
      "text/plain": [
       "[<matplotlib.lines.Line2D at 0x7fc479c6ca90>]"
      ]
     },
     "execution_count": 56,
     "metadata": {},
     "output_type": "execute_result"
    },
    {
     "data": {
      "image/png": "[encoded data removed]",
      "text/plain": [
       "<Figure size 432x288 with 1 Axes>"
      ]
     },
     "metadata": {
      "needs_background": "light"
     },
     "output_type": "display_data"
    }
   ],
   "source": [
    "dat = np.loadtxt('shor_data.csv', delimiter=',')\n",
    "\n",
    "plt.plot(dat[0], dat[1], 'o')"
   ]
  }
 ],
 "metadata": {
  "kernelspec": {
   "display_name": "Python 3",
   "language": "python",
   "name": "python3"
  },
  "language_info": {
   "codemirror_mode": {
    "name": "ipython",
    "version": 3
   },
   "file_extension": ".py",
   "mimetype": "text/x-python",
   "name": "python",
   "nbconvert_exporter": "python",
   "pygments_lexer": "ipython3",
   "version": "3.6.8"
  }
 },
 "nbformat": 4,
 "nbformat_minor": 4
}
