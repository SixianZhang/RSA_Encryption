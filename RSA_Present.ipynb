{
 "cells": [
  {
   "cell_type": "code",
   "execution_count": 5,
   "metadata": {},
   "outputs": [],
   "source": [
    "import RSA_Code"
   ]
  },
  {
   "cell_type": "markdown",
   "metadata": {},
   "source": [
    "# Random Prime"
   ]
  },
  {
   "cell_type": "code",
   "execution_count": 10,
   "metadata": {},
   "outputs": [
    {
     "data": {
      "text/plain": [
       "2760763158912683"
      ]
     },
     "execution_count": 10,
     "metadata": {},
     "output_type": "execute_result"
    }
   ],
   "source": [
    "RSA_Code.random_prime(d = 53, mode = 'MR')"
   ]
  },
  {
   "cell_type": "markdown",
   "metadata": {},
   "source": [
    "# RSA Demo"
   ]
  },
  {
   "cell_type": "code",
   "execution_count": 9,
   "metadata": {},
   "outputs": [
    {
     "name": "stdin",
     "output_type": "stream",
     "text": [
      "Please enter the length of the key:  16\n"
     ]
    },
    {
     "name": "stdout",
     "output_type": "stream",
     "text": [
      "n is: 17847919\n",
      "p is: 18457\n",
      "q is: 967\n",
      "e is: 554105\n",
      "d is: 11851097\n"
     ]
    },
    {
     "name": "stdin",
     "output_type": "stream",
     "text": [
      "Please enter the plain text:  asdfghjkl;'\n"
     ]
    },
    {
     "name": "stdout",
     "output_type": "stream",
     "text": [
      "The plain text is: asdfghjkl;'\n",
      "The cipher is :[5406178, 4446747, 6685835, 12990764, 15839517, 13032735, 9782628, 2894618, 6518027, 3152832, 14554106]\n",
      "The decrypted text is: asdfghjkl;'\n",
      "The decrypted text using CRT is: asdfghjkl;'\n"
     ]
    }
   ],
   "source": [
    "RSA_Code.main()"
   ]
  },
  {
   "cell_type": "markdown",
   "metadata": {},
   "source": [
    "# Key generation"
   ]
  },
  {
   "cell_type": "code",
   "execution_count": 11,
   "metadata": {},
   "outputs": [
    {
     "name": "stdout",
     "output_type": "stream",
     "text": [
      "n is: 2101\n",
      "p is: 191\n",
      "q is: 11\n",
      "e is: 1519\n",
      "d is: 379\n"
     ]
    }
   ],
   "source": [
    "p, q, n, phi_n, e, d = RSA_Code.key_generation(8)\n",
    "\n",
    "print(\"n is: \" + str(n))\n",
    "print(\"p is: \" + str(p))\n",
    "print(\"q is: \" + str(q))\n",
    "print(\"e is: \" + str(e))\n",
    "print(\"d is: \" + str(d))"
   ]
  }
 ],
 "metadata": {
  "kernelspec": {
   "display_name": "Python 3",
   "language": "python",
   "name": "python3"
  },
  "language_info": {
   "codemirror_mode": {
    "name": "ipython",
    "version": 3
   },
   "file_extension": ".py",
   "mimetype": "text/x-python",
   "name": "python",
   "nbconvert_exporter": "python",
   "pygments_lexer": "ipython3",
   "version": "3.6.8"
  }
 },
 "nbformat": 4,
 "nbformat_minor": 4
}
