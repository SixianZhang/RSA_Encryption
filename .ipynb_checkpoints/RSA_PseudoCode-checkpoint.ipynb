{
 "cells": [
  {
   "cell_type": "markdown",
   "metadata": {},
   "source": [
    "## Key generation"
   ]
  },
  {
   "cell_type": "code",
   "execution_count": null,
   "metadata": {},
   "outputs": [],
   "source": [
    "def key_generation():\n",
    "    p = random_prime()\n",
    "    q = random_prime()\n",
    "\n",
    "    n = p * q\n",
    "    phi_n = ( p - 1 )*(q - 1)\n",
    "\n",
    "    e = euclidian_algorithm(phi_n)\n",
    "\n",
    "    d = extend_euclidian_algorithm(e, phi_n)\n",
    "\n",
    "    \n",
    "    return p, q, n, phi_n, e, d"
   ]
  },
  {
   "cell_type": "code",
   "execution_count": null,
   "metadata": {},
   "outputs": [],
   "source": [
    "def random_prime():\n",
    "    # generate a large prime number randomly\n",
    "    return prime\n",
    "\n",
    "def euclidian_algorithm(phi_n):\n",
    "    # find e, which satisfies gcd(phi_n, e) = 1. 1 < e < phi_n\n",
    "    return e\n",
    "\n",
    "def extend_euclidian_algorithm(e, phi_n):\n",
    "    # find d, the inverse of e under the modular base phi_n\n",
    "    return d"
   ]
  },
  {
   "cell_type": "markdown",
   "metadata": {},
   "source": [
    "## Encryption"
   ]
  },
  {
   "cell_type": "code",
   "execution_count": null,
   "metadata": {},
   "outputs": [],
   "source": [
    "def encryption(plain_text, n, key):\n",
    "    \n",
    "#     cipher = (plain_text ** key) % n\n",
    "    \n",
    "    exponent = fast_exponentiation(plain_text, key)    \n",
    "    cipher = exponent % n\n",
    "    \n",
    "    return cipher"
   ]
  },
  {
   "cell_type": "code",
   "execution_count": null,
   "metadata": {},
   "outputs": [],
   "source": [
    "def fast_expontiation(plain_text, key):\n",
    "    # realize the fast expontiation algorithm\n",
    "    return exponent"
   ]
  },
  {
   "cell_type": "markdown",
   "metadata": {},
   "source": [
    "## Decryption"
   ]
  },
  {
   "cell_type": "code",
   "execution_count": null,
   "metadata": {},
   "outputs": [],
   "source": [
    "def decryption(cipher, n, key):\n",
    "    \n",
    "#     plain_text = (cipher ** key) % n\n",
    "\n",
    "    exponent = fast_exponentiation(cipher, key)    \n",
    "    plain_text = exponent % n\n",
    "    \n",
    "    return plain_text\n",
    "\n",
    "def decryption_CRT(cipher, n, p, q, phi_n):\n",
    "    \n",
    "    plain_text = chinese_remainder_theorem(cipher, p, q, d)\n",
    "    \n",
    "    return plain_text"
   ]
  },
  {
   "cell_type": "code",
   "execution_count": null,
   "metadata": {},
   "outputs": [],
   "source": [
    "def chinese_remainder_theorem(C, p, q, d):\n",
    "    # realize CRT algorithm\n",
    "    return P"
   ]
  }
 ],
 "metadata": {
  "kernelspec": {
   "display_name": "Python 3",
   "language": "python",
   "name": "python3"
  },
  "language_info": {
   "codemirror_mode": {
    "name": "ipython",
    "version": 3
   },
   "file_extension": ".py",
   "mimetype": "text/x-python",
   "name": "python",
   "nbconvert_exporter": "python",
   "pygments_lexer": "ipython3",
   "version": "3.6.8"
  }
 },
 "nbformat": 4,
 "nbformat_minor": 4
}
