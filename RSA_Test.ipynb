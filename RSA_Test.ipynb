{
 "cells": [
  {
   "cell_type": "code",
   "execution_count": 1,
   "metadata": {},
   "outputs": [
    {
     "name": "stdout",
     "output_type": "stream",
     "text": [
      "Automatic pdb calling has been turned ON\n"
     ]
    }
   ],
   "source": [
    "%pdb"
   ]
  },
  {
   "cell_type": "code",
   "execution_count": 2,
   "metadata": {},
   "outputs": [],
   "source": [
    "import RSA_Code\n",
    "import numpy as np\n",
    "import random\n",
    "import sys\n",
    "\n",
    "import time\n",
    "import matplotlib.pyplot as plt\n",
    "from IPython.core.debugger import set_trace"
   ]
  },
  {
   "cell_type": "markdown",
   "metadata": {},
   "source": [
    "## Time Comparison for Prime Number Generator"
   ]
  },
  {
   "cell_type": "code",
   "execution_count": 3,
   "metadata": {},
   "outputs": [],
   "source": [
    "simple_time = []\n",
    "MR_time = []\n",
    "bit_lengths = []"
   ]
  },
  {
   "cell_type": "code",
   "execution_count": 3,
   "metadata": {},
   "outputs": [],
   "source": [
    "dat = np.loadtxt('png_data.csv', delimiter=',')\n",
    "\n",
    "simple_time = dat[0]\n",
    "MR_time = dat[1]\n",
    "bit_lengths = dat[2]"
   ]
  },
  {
   "cell_type": "code",
   "execution_count": null,
   "metadata": {},
   "outputs": [
    {
     "name": "stdout",
     "output_type": "stream",
     "text": [
      "48 bits\n",
      "8 bits\n",
      "44 bits\n",
      "29 bits\n",
      "31 bits\n",
      "10 bits\n",
      "62 bits\n",
      "60 bits\n",
      "10 bits\n",
      "51 bits\n",
      "62 bits\n",
      "60 bits\n",
      "11 bits\n",
      "8 bits\n",
      "55 bits\n",
      "24 bits\n",
      "32 bits\n",
      "46 bits\n",
      "8 bits\n",
      "47 bits\n",
      "28 bits\n",
      "53 bits\n",
      "14 bits\n",
      "51 bits\n",
      "37 bits\n",
      "11 bits\n",
      "35 bits\n",
      "31 bits\n",
      "11 bits\n",
      "20 bits\n",
      "10 bits\n",
      "41 bits\n",
      "58 bits\n",
      "40 bits\n",
      "30 bits\n",
      "64 bits\n",
      "31 bits\n",
      "35 bits\n",
      "60 bits\n",
      "30 bits\n",
      "65 bits\n",
      "21 bits\n",
      "50 bits\n",
      "43 bits\n",
      "20 bits\n",
      "27 bits\n",
      "16 bits\n",
      "49 bits\n",
      "21 bits\n",
      "25 bits\n",
      "43 bits\n",
      "27 bits\n",
      "19 bits\n",
      "57 bits\n",
      "23 bits\n",
      "44 bits\n",
      "37 bits\n",
      "24 bits\n",
      "59 bits\n",
      "62 bits\n",
      "42 bits\n",
      "31 bits\n",
      "32 bits\n",
      "34 bits\n",
      "61 bits\n",
      "59 bits\n",
      "35 bits\n",
      "54 bits\n",
      "21 bits\n",
      "56 bits\n",
      "13 bits\n",
      "59 bits\n",
      "52 bits\n",
      "63 bits\n",
      "24 bits\n",
      "59 bits\n",
      "23 bits\n",
      "26 bits\n",
      "41 bits\n",
      "37 bits\n",
      "63 bits\n",
      "37 bits\n",
      "48 bits\n",
      "21 bits\n",
      "37 bits\n",
      "58 bits\n",
      "60 bits\n",
      "34 bits\n",
      "13 bits\n",
      "35 bits\n",
      "50 bits\n",
      "61 bits\n",
      "61 bits\n",
      "65 bits\n"
     ]
    }
   ],
   "source": [
    "t_all = time.time()\n",
    "\n",
    "for n_sample in range(0, 100):\n",
    "    \n",
    "    d = random.randint(8, 65)\n",
    "\n",
    "    print(str(d) + \" bits\")\n",
    "    sys.stdout.flush()\n",
    "\n",
    "    \n",
    "    t_start = time.time()\n",
    "    RSA_Code.random_prime(d = d, mode = 'simple')\n",
    "#     np.append(simple_time, time.time() - t_start)\n",
    "    simple_time.append(time.time() - t_start)\n",
    "\n",
    "    t_start = time.time()\n",
    "    RSA_Code.random_prime(d = d, mode = 'MR', k = 100)\n",
    "#     np.append(MR_time, time.time() - t_start)\n",
    "    MR_time.append(time.time() - t_start)\n",
    "    \n",
    "#     np.append(bit_lengths, d)\n",
    "    bit_lengths.append(d)\n",
    "    \n",
    "    dat = np.asarray([bit_lengths, simple_time, MR_time])\n",
    "    np.savetxt('png_data.csv', dat, delimiter=',')\n",
    "    \n",
    "print(time.time() - t_all)"
   ]
  },
  {
   "cell_type": "code",
   "execution_count": 7,
   "metadata": {
    "collapsed": true,
    "jupyter": {
     "outputs_hidden": true
    }
   },
   "outputs": [
    {
     "data": {
      "text/plain": [
       "[0.001661539077758789,\n",
       " 0.003007650375366211,\n",
       " 0.002975940704345703,\n",
       " 0.003124237060546875,\n",
       " 0.0006699562072753906,\n",
       " 0.0014410018920898438,\n",
       " 0.0007424354553222656,\n",
       " 0.0006699562072753906,\n",
       " 0.003654003143310547,\n",
       " 0.002240896224975586,\n",
       " 0.0005559921264648438,\n",
       " 0.0021924972534179688,\n",
       " 0.0027756690979003906,\n",
       " 0.003499746322631836,\n",
       " 0.0015072822570800781,\n",
       " 0.002848386764526367,\n",
       " 0.004198312759399414,\n",
       " 0.0007848739624023438,\n",
       " 0.001255035400390625,\n",
       " 0.0018053054809570312,\n",
       " 0.0023393630981445312,\n",
       " 0.005730867385864258,\n",
       " 0.0022454261779785156,\n",
       " 0.000766754150390625,\n",
       " 0.0016906261444091797,\n",
       " 0.002274036407470703,\n",
       " 0.004267215728759766,\n",
       " 0.0008018016815185547,\n",
       " 0.0013093948364257812,\n",
       " 0.0018787384033203125,\n",
       " 0.0021295547485351562,\n",
       " 0.0019140243530273438,\n",
       " 0.0035941600799560547,\n",
       " 0.0036318302154541016,\n",
       " 0.004091024398803711,\n",
       " 0.002848386764526367,\n",
       " 0.0028231143951416016,\n",
       " 0.0008120536804199219,\n",
       " 0.002738475799560547,\n",
       " 0.003157377243041992,\n",
       " 0.001997232437133789,\n",
       " 0.0006887912750244141,\n",
       " 0.003523588180541992,\n",
       " 0.003409862518310547,\n",
       " 0.0062673091888427734,\n",
       " 0.003034830093383789,\n",
       " 0.001829385757446289,\n",
       " 0.0036880970001220703,\n",
       " 0.0034673213958740234,\n",
       " 0.0012409687042236328,\n",
       " 0.0016067028045654297,\n",
       " 0.0012357234954833984,\n",
       " 0.0016033649444580078,\n",
       " 0.0005347728729248047,\n",
       " 0.0005247592926025391,\n",
       " 0.0007309913635253906,\n",
       " 0.002247333526611328,\n",
       " 0.002791881561279297,\n",
       " 0.0035037994384765625,\n",
       " 0.0007002353668212891,\n",
       " 0.003348827362060547,\n",
       " 0.0006353855133056641,\n",
       " 0.0015635490417480469,\n",
       " 0.0006272792816162109,\n",
       " 0.0014870166778564453,\n",
       " 0.0027475357055664062,\n",
       " 0.003949880599975586,\n",
       " 0.001583099365234375,\n",
       " 0.000732421875,\n",
       " 0.0009500980377197266,\n",
       " 0.0004894733428955078,\n",
       " 0.0010344982147216797,\n",
       " 0.0030374526977539062,\n",
       " 0.0009806156158447266,\n",
       " 0.0029921531677246094,\n",
       " 0.0032906532287597656,\n",
       " 0.0018053054809570312,\n",
       " 0.003998279571533203,\n",
       " 0.0027205944061279297,\n",
       " 0.0033981800079345703,\n",
       " 0.0025119781494140625,\n",
       " 0.002960681915283203,\n",
       " 0.0032806396484375,\n",
       " 0.002282857894897461,\n",
       " 0.001958608627319336,\n",
       " 0.003098726272583008,\n",
       " 0.0027413368225097656,\n",
       " 0.0030939579010009766,\n",
       " 0.001436471939086914,\n",
       " 0.0015168190002441406,\n",
       " 0.0008189678192138672,\n",
       " 0.0031249523162841797,\n",
       " 0.003660917282104492,\n",
       " 0.0017843246459960938,\n",
       " 0.0006909370422363281,\n",
       " 0.0016019344329833984,\n",
       " 0.0019788742065429688,\n",
       " 0.005001544952392578,\n",
       " 0.002424478530883789,\n",
       " 0.002048492431640625]"
      ]
     },
     "execution_count": 7,
     "metadata": {},
     "output_type": "execute_result"
    }
   ],
   "source": [
    "bit_lengths"
   ]
  },
  {
   "cell_type": "code",
   "execution_count": 6,
   "metadata": {},
   "outputs": [
    {
     "data": {
      "text/plain": [
       "[<matplotlib.lines.Line2D at 0x7fe6b5d9ba90>]"
      ]
     },
     "execution_count": 6,
     "metadata": {},
     "output_type": "execute_result"
    },
    {
     "data": {
      "image/png": "[encoded data removed]",
      "text/plain": [
       "<Figure size 432x288 with 1 Axes>"
      ]
     },
     "metadata": {
      "needs_background": "light"
     },
     "output_type": "display_data"
    }
   ],
   "source": [
    "dat = np.loadtxt('png_data.csv', delimiter=',')\n",
    "\n",
    "plt.plot(bit_lengths, simple_time, 'o')\n",
    "plt.plot(bit_lengths, MR_time, 'o')"
   ]
  },
  {
   "cell_type": "code",
   "execution_count": 11,
   "metadata": {},
   "outputs": [
    {
     "data": {
      "text/plain": [
       "[<matplotlib.lines.Line2D at 0x7f40f77377f0>]"
      ]
     },
     "execution_count": 11,
     "metadata": {},
     "output_type": "execute_result"
    },
    {
     "data": {
      "image/png": "[encoded data removed]",
      "text/plain": [
       "<Figure size 432x288 with 1 Axes>"
      ]
     },
     "metadata": {
      "needs_background": "light"
     },
     "output_type": "display_data"
    }
   ],
   "source": [
    "dat = np.loadtxt('shor_data.csv', delimiter=',')\n",
    "\n",
    "plt.plot(dat[0], dat[1], 'o')\n",
    "plt.plot(dat[0], dat[2], 'o')"
   ]
  },
  {
   "cell_type": "markdown",
   "metadata": {},
   "source": [
    "## Time Comparison for exponentiation operation"
   ]
  },
  {
   "cell_type": "code",
   "execution_count": null,
   "metadata": {},
   "outputs": [],
   "source": [
    "normal_time = []\n",
    "fast_time = []\n",
    "fast_mod_time = []\n",
    "\n",
    "for b in range(8, 1024):\n",
    "    t_all = time.time()\n",
    "\n",
    "    base = random.randint(2**(b-1), 2**b - 1)\n",
    "    mod_base = random.randint(2**(b-1), 2**b - 1)\n",
    "    power = random.randint(0, mod_base - 1)\n",
    "    \n",
    "#     t_start = time.time()\n",
    "#     dummy = base ** power % mod_base\n",
    "#     normal_time.append(time.time() - t_start)\n",
    "    \n",
    "    t_start = time.time()\n",
    "    dummy = RSA_Code.fast_expontiation(base, power, 1) % mod_base\n",
    "    fast_time.append(time.time() - t_start)\n",
    "    \n",
    "    t_start = time.time()\n",
    "    dummy = RSA_Code.fast_expontiation(base, power, mod_base)\n",
    "    fast_mod_time.append(time.time() - t_start)\n",
    "    \n",
    "    print(str(b) + ' bits: ' + str(time.time() - t_all))\n",
    "\n",
    "print(time.time() = t_all)"
   ]
  },
  {
   "cell_type": "code",
   "execution_count": 39,
   "metadata": {},
   "outputs": [
    {
     "data": {
      "text/plain": [
       "[<matplotlib.lines.Line2D at 0x7f40ce364668>]"
      ]
     },
     "execution_count": 39,
     "metadata": {},
     "output_type": "execute_result"
    },
    {
     "data": {
      "image/png": "[encoded data removed]",
      "text/plain": [
       "<Figure size 432x288 with 1 Axes>"
      ]
     },
     "metadata": {
      "needs_background": "light"
     },
     "output_type": "display_data"
    }
   ],
   "source": [
    "# plt.plot(np.arange(8, 24), normal_time)\n",
    "plt.plot(np.arange(8, 1024), fast_time)\n",
    "plt.plot(np.arange(8, 1024), fast_mod_time)"
   ]
  },
  {
   "cell_type": "markdown",
   "metadata": {},
   "source": [
    "## CRT"
   ]
  },
  {
   "cell_type": "code",
   "execution_count": null,
   "metadata": {},
   "outputs": [],
   "source": [
    "normal_time = []\n",
    "crt_time = []\n",
    "\n",
    "t_all = time.time()\n",
    "for n_sample in range(0, 100):\n",
    "    \n",
    "    sys.stdout.flush()\n",
    "    \n",
    "    b = n_sample\n",
    "    \n",
    "    \n",
    "    p, q, n, phi_n, e, d = RSA_Code.key_generation(b)\n",
    "    \n",
    "    message = random.randint(n//2, n)\n",
    "\n",
    "    \n",
    "    cipher = RSA_Code.encryption(message, n, e)\n",
    "    \n",
    "    t_start = time.time()\n",
    "    dummy = RSA_Code.decryption(ciphe, n, d)\n",
    "    normal_time.append(time.time() - t_start)\n",
    "    \n",
    "    t_start = time.time()\n",
    "    dummy = RSA_Code.decryption_crt(ciphe, n, d)\n",
    "    crt_time.append(time.time() - t_start)\n",
    "    \n",
    "print(time.time() - t_all)"
   ]
  }
 ],
 "metadata": {
  "kernelspec": {
   "display_name": "Python 3",
   "language": "python",
   "name": "python3"
  },
  "language_info": {
   "codemirror_mode": {
    "name": "ipython",
    "version": 3
   },
   "file_extension": ".py",
   "mimetype": "text/x-python",
   "name": "python",
   "nbconvert_exporter": "python",
   "pygments_lexer": "ipython3",
   "version": "3.6.8"
  }
 },
 "nbformat": 4,
 "nbformat_minor": 4
}
