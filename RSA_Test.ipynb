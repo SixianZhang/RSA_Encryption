{
 "cells": [
  {
   "cell_type": "code",
   "execution_count": 2,
   "metadata": {},
   "outputs": [
    {
     "name": "stdout",
     "output_type": "stream",
     "text": [
      "Automatic pdb calling has been turned OFF\n"
     ]
    }
   ],
   "source": [
    "%pdb"
   ]
  },
  {
   "cell_type": "code",
   "execution_count": 3,
   "metadata": {},
   "outputs": [],
   "source": [
    "import RSA_Code\n",
    "import numpy as np\n",
    "import random\n",
    "import sys\n",
    "\n",
    "import time\n",
    "import matplotlib.pyplot as plt\n",
    "from IPython.core.debugger import set_trace"
   ]
  },
  {
   "cell_type": "markdown",
   "metadata": {},
   "source": [
    "## Time Comparison for Prime Number Generator"
   ]
  },
  {
   "cell_type": "code",
   "execution_count": 4,
   "metadata": {},
   "outputs": [],
   "source": [
    "simple_time = []\n",
    "MR_time = []\n",
    "bit_lengths = []"
   ]
  },
  {
   "cell_type": "code",
   "execution_count": 5,
   "metadata": {},
   "outputs": [
    {
     "name": "stdout",
     "output_type": "stream",
     "text": [
      "8 bits\n",
      "26 bits\n",
      "47 bits\n",
      "54 bits\n",
      "39 bits\n",
      "46 bits\n",
      "27 bits\n",
      "17 bits\n",
      "64 bits\n",
      "9 bits\n",
      "15 bits\n",
      "51 bits\n",
      "60 bits\n",
      "46 bits\n",
      "22 bits\n",
      "35 bits\n",
      "12 bits\n",
      "14 bits\n",
      "15 bits\n",
      "38 bits\n",
      "61 bits\n",
      "42 bits\n",
      "30 bits\n",
      "61 bits\n",
      "47 bits\n",
      "34 bits\n",
      "60 bits\n",
      "14 bits\n",
      "42 bits\n",
      "52 bits\n",
      "59 bits\n",
      "56 bits\n",
      "22 bits\n",
      "34 bits\n",
      "28 bits\n",
      "19 bits\n",
      "59 bits\n",
      "30 bits\n",
      "27 bits\n",
      "48 bits\n",
      "20 bits\n",
      "43 bits\n",
      "26 bits\n",
      "21 bits\n",
      "60 bits\n",
      "18 bits\n",
      "45 bits\n",
      "56 bits\n",
      "15 bits\n",
      "50 bits\n",
      "57 bits\n",
      "45 bits\n",
      "9 bits\n",
      "40 bits\n",
      "30 bits\n",
      "42 bits\n",
      "52 bits\n",
      "20 bits\n",
      "43 bits\n",
      "65 bits\n",
      "17 bits\n",
      "16 bits\n",
      "62 bits\n",
      "31 bits\n",
      "9 bits\n",
      "10 bits\n",
      "15 bits\n",
      "32 bits\n",
      "53 bits\n",
      "57 bits\n",
      "33 bits\n",
      "29 bits\n",
      "62 bits\n",
      "57 bits\n",
      "27 bits\n",
      "53 bits\n",
      "13 bits\n",
      "34 bits\n",
      "18 bits\n",
      "32 bits\n",
      "27 bits\n",
      "39 bits\n",
      "61 bits\n",
      "14 bits\n",
      "49 bits\n",
      "52 bits\n",
      "44 bits\n",
      "47 bits\n",
      "20 bits\n",
      "28 bits\n",
      "16 bits\n",
      "37 bits\n",
      "15 bits\n",
      "24 bits\n",
      "16 bits\n",
      "38 bits\n",
      "34 bits\n",
      "20 bits\n",
      "9 bits\n",
      "60 bits\n",
      "741.9044442176819\n"
     ]
    }
   ],
   "source": [
    "t_all = time.time()\n",
    "\n",
    "for n_sample in range(0, 100):\n",
    "    \n",
    "    d = random.randint(8, 65)\n",
    "\n",
    "    print(str(d) + \" bits\")\n",
    "    sys.stdout.flush()\n",
    "\n",
    "    \n",
    "    t_start = time.time()\n",
    "    RSA_Code.random_prime(d = d, mode = 'simple')\n",
    "    simple_time.append(time.time() - t_start)\n",
    "\n",
    "    t_start = time.time()\n",
    "    RSA_Code.random_prime(d = d, mode = 'MR', k = 100)\n",
    "    MR_time.append(time.time() - t_start)   \n",
    "    \n",
    "    bit_lengths.append(d)\n",
    "    \n",
    "    dat = np.asarray([bit_lengths, simple_time, MR_time])\n",
    "    np.savetxt('png_data.csv', dat, delimiter=',')\n",
    "    \n",
    "print(time.time() - t_all)"
   ]
  },
  {
   "cell_type": "code",
   "execution_count": 8,
   "metadata": {},
   "outputs": [
    {
     "data": {
      "text/plain": [
       "array([list([29]),\n",
       "       list([5.118038654327393, 0.037757158279418945, 0.0005004405975341797]),\n",
       "       list([0.0037047863006591797, 0.002790689468383789, 0.0014657974243164062])],\n",
       "      dtype=object)"
      ]
     },
     "execution_count": 8,
     "metadata": {},
     "output_type": "execute_result"
    }
   ],
   "source": [
    "dat"
   ]
  },
  {
   "cell_type": "code",
   "execution_count": 11,
   "metadata": {},
   "outputs": [
    {
     "data": {
      "text/plain": [
       "[<matplotlib.lines.Line2D at 0x7f40f77377f0>]"
      ]
     },
     "execution_count": 11,
     "metadata": {},
     "output_type": "execute_result"
    },
    {
     "data": {
      "image/png": "[encoded data removed]",
      "text/plain": [
       "<Figure size 432x288 with 1 Axes>"
      ]
     },
     "metadata": {
      "needs_background": "light"
     },
     "output_type": "display_data"
    }
   ],
   "source": [
    "dat = np.loadtxt('shor_data.csv', delimiter=',')\n",
    "\n",
    "plt.plot(dat[0], dat[1], 'o')\n",
    "plt.plot(dat[0], dat[2], 'o')"
   ]
  },
  {
   "cell_type": "markdown",
   "metadata": {},
   "source": [
    "## Time Comparison for exponentiation operation"
   ]
  },
  {
   "cell_type": "code",
   "execution_count": null,
   "metadata": {},
   "outputs": [],
   "source": [
    "normal_time = []\n",
    "fast_time = []\n",
    "fast_mod_time = []\n",
    "\n",
    "for b in range(8, 1024):\n",
    "    t_all = time.time()\n",
    "\n",
    "    base = random.randint(2**(b-1), 2**b - 1)\n",
    "    mod_base = random.randint(2**(b-1), 2**b - 1)\n",
    "    power = random.randint(0, mod_base - 1)\n",
    "    \n",
    "#     t_start = time.time()\n",
    "#     dummy = base ** power % mod_base\n",
    "#     normal_time.append(time.time() - t_start)\n",
    "    \n",
    "    t_start = time.time()\n",
    "    dummy = RSA_Code.fast_expontiation(base, power, 1) % mod_base\n",
    "    fast_time.append(time.time() - t_start)\n",
    "    \n",
    "    t_start = time.time()\n",
    "    dummy = RSA_Code.fast_expontiation(base, power, mod_base)\n",
    "    fast_mod_time.append(time.time() - t_start)\n",
    "    \n",
    "    print(str(b) + ' bits: ' + str(time.time() - t_all))\n",
    "\n",
    "print(time.time() = t_all)"
   ]
  },
  {
   "cell_type": "code",
   "execution_count": 39,
   "metadata": {},
   "outputs": [
    {
     "data": {
      "text/plain": [
       "[<matplotlib.lines.Line2D at 0x7f40ce364668>]"
      ]
     },
     "execution_count": 39,
     "metadata": {},
     "output_type": "execute_result"
    },
    {
     "data": {
      "image/png": "[encoded data removed]",
      "text/plain": [
       "<Figure size 432x288 with 1 Axes>"
      ]
     },
     "metadata": {
      "needs_background": "light"
     },
     "output_type": "display_data"
    }
   ],
   "source": [
    "# plt.plot(np.arange(8, 24), normal_time)\n",
    "plt.plot(np.arange(8, 1024), fast_time)\n",
    "plt.plot(np.arange(8, 1024), fast_mod_time)"
   ]
  },
  {
   "cell_type": "code",
   "execution_count": null,
   "metadata": {},
   "outputs": [],
   "source": []
  }
 ],
 "metadata": {
  "kernelspec": {
   "display_name": "Python 3",
   "language": "python",
   "name": "python3"
  },
  "language_info": {
   "codemirror_mode": {
    "name": "ipython",
    "version": 3
   },
   "file_extension": ".py",
   "mimetype": "text/x-python",
   "name": "python",
   "nbconvert_exporter": "python",
   "pygments_lexer": "ipython3",
   "version": "3.6.8"
  }
 },
 "nbformat": 4,
 "nbformat_minor": 4
}
