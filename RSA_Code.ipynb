{
 "cells": [
  {
   "cell_type": "code",
   "execution_count": 645,
   "metadata": {},
   "outputs": [],
   "source": [
    "import random\n",
    "import numpy as np\n",
    "import matplotlib.pyplot as plt\n",
    "from IPython.core.debugger import set_trace"
   ]
  },
  {
   "cell_type": "markdown",
   "metadata": {},
   "source": [
    "## Key generation"
   ]
  },
  {
   "cell_type": "code",
   "execution_count": 436,
   "metadata": {},
   "outputs": [],
   "source": [
    "def random_prime(d = 32):\n",
    "    # generate a large prime number randomly\n",
    "    # Simple method\n",
    "    # Consider Miller–Rabin and Solovay–Strassen primality test\n",
    "    n = random.randint(2, 2**d - 1)\n",
    "    \n",
    "    # Preliminary Test\n",
    "    while n % 2 == 0 or n % 3 == 0:\n",
    "        n = random.randint(2, 2**d - 1)\n",
    "    \n",
    "    # Iterative Test\n",
    "    while True:\n",
    "        i = 5\n",
    "        while i*i <= n:\n",
    "            if n % i == 0 or n % (i + 2) == 0:\n",
    "                break\n",
    "            i += 6\n",
    "\n",
    "        if i*i <= n:\n",
    "            n += 2\n",
    "            while n % 2 == 0 or n % 3 == 0:\n",
    "                n += 2\n",
    "            continue\n",
    "        else:\n",
    "            break\n",
    "\n",
    "    return n\n",
    "\n",
    "def gcd(x, y):\n",
    "    if x < y:\n",
    "        x, y = y, x\n",
    "    \n",
    "    while not x - y == 0:\n",
    "        x = x - y\n",
    "        if x < y:\n",
    "            x, y = y, x        \n",
    "    \n",
    "    return x  \n",
    "\n",
    "def random_coprime(n):\n",
    "    # find e, which satisfies gcd(n, e) = 1. 1 < e < n\n",
    "    \n",
    "    # Can't do this, memory overflow\n",
    "    #e_seq = np.random.permutation(np.arange(2, n))\n",
    "        \n",
    "    e = random.randint(2, n - 1)\n",
    "    \n",
    "    while not gcd(n, e) == 1:\n",
    "        if e == n - 1:\n",
    "            e = random.random.randint(2, n -1)\n",
    "        else:\n",
    "            e = e + 1\n",
    "        \n",
    "    return e\n",
    "\n",
    "\n",
    "def eea(r0, r1):\n",
    "    # find the inverse of e under the modular base phi_n\n",
    "    if r0 < r1:\n",
    "        r0, r1 = r1, r0\n",
    "    \n",
    "    if r1 == 1:\n",
    "        return 1\n",
    "    \n",
    "    if r0 % r1 == 0:\n",
    "        return None\n",
    "    \n",
    "    n = r0\n",
    "    \n",
    "    s0 = 1; t0 = 0; s1 = 0; t1 = 1   \n",
    "    q0 = 0; q1 = int(r0 / r1)\n",
    "    \n",
    "    while True:\n",
    "        r2 = r0 % r1\n",
    "        q2 = int(r1 / r2)\n",
    "        s2 = s0 - q1*s1\n",
    "        t2 = t0 - q1*t1\n",
    "\n",
    "        if r2 == 1:\n",
    "            if t2 < 0: \n",
    "                return t2 + n\n",
    "            else:\n",
    "                return t2\n",
    "        else:\n",
    "            r0 = r1; q0 = q1; s0 = s1; t0 = t1\n",
    "            r1 = r2; q1 = q2; s1 = s2; t1 = t2"
   ]
  },
  {
   "cell_type": "code",
   "execution_count": 551,
   "metadata": {},
   "outputs": [],
   "source": [
    "def key_generation(d = 32):\n",
    "    p = random_prime(d)\n",
    "    q = random_prime(d)\n",
    "\n",
    "    while p == q:\n",
    "        q = random_prime(d)\n",
    "\n",
    "    n = p * q\n",
    "    phi_n = ( p - 1 )*(q - 1)\n",
    "\n",
    "    e = random_coprime(phi_n)\n",
    "\n",
    "    d = eea(e, phi_n)\n",
    "    \n",
    "    return p, q, n, phi_n, e, d"
   ]
  },
  {
   "cell_type": "code",
   "execution_count": 289,
   "metadata": {},
   "outputs": [
    {
     "data": {
      "text/plain": [
       "(1342866179,\n",
       " 2120886121,\n",
       " 2848066241401401659,\n",
       " 2848066237937649360,\n",
       " 1987403942331748541,\n",
       " 1861923019237530341)"
      ]
     },
     "execution_count": 289,
     "metadata": {},
     "output_type": "execute_result"
    }
   ],
   "source": [
    "key_generation()"
   ]
  },
  {
   "cell_type": "markdown",
   "metadata": {},
   "source": [
    "## Encryption"
   ]
  },
  {
   "cell_type": "code",
   "execution_count": 750,
   "metadata": {},
   "outputs": [],
   "source": [
    "def fast_expontiation(plain_text:int, key:int, n = None):\n",
    "    # realize the fast expontiation algorithm\n",
    "#     if type(key) is int:\n",
    "    key_seq = int_to_list(key)\n",
    "    \n",
    "    answer = plain_text\n",
    "    \n",
    "    for i in range(1, len(key_seq)):\n",
    "        answer = (answer ** 2) % n\n",
    "#         answer = moduloMultiplication(answer, answer, n)\n",
    "        if key_seq[i] == 1:\n",
    "            answer = (answer * plain_text) % n\n",
    "#             answer = moduloMultiplication(answer, plain_text, n)\n",
    " \n",
    "    return answer\n",
    "\n",
    "def int_to_list(n:int):\n",
    "    lst = []\n",
    "\n",
    "    while n > 0:\n",
    "        lst.append(n & 1)\n",
    "        n = n >> 1\n",
    "    \n",
    "    lst.reverse()\n",
    "    \n",
    "    return lst\n",
    "    \n",
    "def list_to_int(lst:list):\n",
    "    n = 0\n",
    "    \n",
    "    lst.reverse()\n",
    "    \n",
    "    for i in range(0, len(lst)):\n",
    "        n = n + lst[i] * (2**i)\n",
    "    \n",
    "    return n\n",
    "\n",
    "# def moduloMultiplication(a, b, mod): \n",
    "  \n",
    "#     res = 0; # Initialize result \n",
    "  \n",
    "#     # Update a if it is more than \n",
    "#     # or equal to mod \n",
    "#     a = a % mod; \n",
    "  \n",
    "#     while (b): \n",
    "      \n",
    "#         # If b is odd, add a with result \n",
    "#         if (b & 1): \n",
    "#             res = (res + a) % mod; \n",
    "              \n",
    "#         # Here we assume that doing 2*a \n",
    "#         # doesn't cause overflow \n",
    "#         a = (2 * a) % mod; \n",
    "  \n",
    "#         b >>= 1; # b = b / 2 \n",
    "      \n",
    "#     return res; "
   ]
  },
  {
   "cell_type": "code",
   "execution_count": 578,
   "metadata": {},
   "outputs": [],
   "source": [
    "def encryption(plain_text, n, key):\n",
    "    \n",
    "#     cipher = (plain_text ** key) % n\n",
    "    \n",
    "    exponent = fast_expontiation(plain_text, key, n)    \n",
    "    cipher = exponent % n\n",
    "    \n",
    "    return cipher"
   ]
  },
  {
   "cell_type": "markdown",
   "metadata": {},
   "source": [
    "## Decryption"
   ]
  },
  {
   "cell_type": "code",
   "execution_count": 768,
   "metadata": {},
   "outputs": [],
   "source": [
    "def decryption(cipher, n, key):\n",
    "    \n",
    "#     plain_text = (cipher ** key) % n\n",
    "\n",
    "    exponent = fast_expontiation(cipher, key, n)    \n",
    "    plain_text = exponent % n\n",
    "    \n",
    "    return plain_text\n",
    "\n",
    "def decryption_CRT(cipher, p, q, d):\n",
    "    \n",
    "    plain_text = chinese_remainder_theorem(cipher, p, q, d)\n",
    "    \n",
    "    return plain_text"
   ]
  },
  {
   "cell_type": "code",
   "execution_count": 760,
   "metadata": {},
   "outputs": [],
   "source": [
    "def chinese_remainder_theorem(C, p, q, d):\n",
    "    # realize CRT algorithm\n",
    "    \n",
    "    dp = d % (p-1)\n",
    "    dq = d % (q-1)\n",
    "    Cp = C % p\n",
    "    Cq = C % q\n",
    "    \n",
    "    a1 = fast_expontiation(Cp, dp, p)\n",
    "    a2 = fast_expontiation(Cq, dq, q)\n",
    "    \n",
    "    qp = eea(q % p, p)\n",
    "    pq = eea(p % q, q)\n",
    "    \n",
    "    P = (a1*q*qp + a2* p* pq) % (p * q)\n",
    "    \n",
    "    return P"
   ]
  },
  {
   "cell_type": "markdown",
   "metadata": {},
   "source": [
    "## Test"
   ]
  },
  {
   "cell_type": "code",
   "execution_count": 771,
   "metadata": {},
   "outputs": [
    {
     "name": "stdout",
     "output_type": "stream",
     "text": [
      "30729423161387000702243401599\n",
      "19385095133637593901073469614\n",
      "30729423161387000702243401599\n",
      "30729423161387000702243401599\n"
     ]
    }
   ],
   "source": [
    "p, q, n, phi_n, e, d = key_generation(48)\n",
    "\n",
    "plain_text = random.randint(0, n-1)\n",
    "\n",
    "cipher = encryption(plain_text, n, e)\n",
    "\n",
    "print(plain_text)\n",
    "print(cipher)\n",
    "\n",
    "decrpt_text = decryption(cipher, n, d)\n",
    "\n",
    "print(decrpt_text)\n",
    "\n",
    "decrpt_text_crt = decryption_CRT(cipher, p, q, d)\n",
    "\n",
    "print(decrpt_text_crt)"
   ]
  },
  {
   "cell_type": "code",
   "execution_count": 755,
   "metadata": {},
   "outputs": [
    {
     "data": {
      "text/plain": [
       "[<matplotlib.lines.Line2D at 0x7f3e297fba90>]"
      ]
     },
     "execution_count": 755,
     "metadata": {},
     "output_type": "execute_result"
    },
    {
     "data": {
      "image/png": "[encoded data removed]",
      "text/plain": [
       "<Figure size 432x288 with 1 Axes>"
      ]
     },
     "metadata": {
      "needs_background": "light"
     },
     "output_type": "display_data"
    }
   ],
   "source": [
    "s = []\n",
    "for j in range(4, 37):\n",
    "    sum = 0\n",
    "    for i in range(0, 100):\n",
    "        digit = j\n",
    "        p, q, n, phi_n, e, d = key_generation(digit)\n",
    "        base = n\n",
    "        pri = e\n",
    "        pub = d\n",
    "\n",
    "        plain_text = random.randint(0, n-1)\n",
    "\n",
    "        cipher = encryption(plain_text = plain_text, key = pri, n = base)\n",
    "\n",
    "\n",
    "        decrypt_text = decryption(cipher=cipher, key=pub, n=base)\n",
    "    #     print(\"cipher: \"  + str(cipher))\n",
    "    #     print(\"plain text: \" + str(plain_text))\n",
    "    #     print(\"result: \" + str(decrypt_text))\n",
    "    #     print(\"n: \" + str(n))\n",
    "    #     print(len(int_to_list(n)))\n",
    "    #     print(len(int_to_list(plain_text)))\n",
    "        if decrypt_text == plain_text:\n",
    "            sum += 1\n",
    "        else:\n",
    "            pass\n",
    "    #         print((p, q, n, e, d, plain_text))\n",
    "    #         print(all([p*q == n, (p-1)*(q-1)==phi_n, gcd(e, phi_n) == 1, gcd(d,phi_n) == 1, \n",
    "    #                   (d*e) % phi_n == 1]))\n",
    "    #         break\n",
    "    s.append(sum/100)\n",
    "\n",
    "plt.plot(np.arange(4, 37), s)"
   ]
  },
  {
   "cell_type": "code",
   "execution_count": 754,
   "metadata": {},
   "outputs": [
    {
     "name": "stdout",
     "output_type": "stream",
     "text": [
      "1.0\n"
     ]
    }
   ],
   "source": [
    "sum = 0\n",
    "n_seq = []\n",
    "for i in range(0, 100):\n",
    "    digit = 27\n",
    "    p, q, n, phi_n, e, d = key_generation(digit)\n",
    "    base = n\n",
    "    pri = e\n",
    "    pub = d\n",
    "\n",
    "    plain_text = random.randint(0, n-1)\n",
    "\n",
    "    cipher = encryption(plain_text = plain_text, key = pri, n = base)\n",
    "\n",
    "\n",
    "    decrypt_text = decryption(cipher=cipher, key=pub, n=base)\n",
    "#     print(\"cipher: \"  + str(cipher))\n",
    "#     print(\"plain text: \" + str(plain_text))\n",
    "#     print(\"result: \" + str(decrypt_text))\n",
    "#     print(\"n: \" + str(n))\n",
    "#     print(len(int_to_list(n)))\n",
    "#     print(len(int_to_list(plain_text)))\n",
    "    if decrypt_text == plain_text:\n",
    "        sum += 1\n",
    "    else:\n",
    "        break\n",
    "#         print((p, q, n, e, d, plain_text))\n",
    "#         print(all([p*q == n, (p-1)*(q-1)==phi_n, gcd(e, phi_n) == 1, gcd(d,phi_n) == 1, \n",
    "#                   (d*e) % phi_n == 1]))\n",
    "#         break\n",
    "    n_seq.append(len(int_to_list(n)))\n",
    "print(sum/100)"
   ]
  },
  {
   "cell_type": "code",
   "execution_count": 763,
   "metadata": {},
   "outputs": [
    {
     "name": "stdout",
     "output_type": "stream",
     "text": [
      "736452606376590\n",
      "736452606376590\n"
     ]
    }
   ],
   "source": [
    "digit = 27\n",
    "p, q, n, phi_n, e, d = key_generation(digit)\n",
    "base = n\n",
    "pri = e\n",
    "pub = d\n",
    "\n",
    "plain_text = random.randint(0, n-1)\n",
    "\n",
    "cipher = encryption(plain_text = plain_text, key = pri, n = base)\n",
    "\n",
    "decrypt_text = decryption(cipher=cipher, key=pub, n=base)\n",
    "decrypt_crt = decryption_CRT(cipher = cipher, n = n, p = p, q = q, phi_n = phi_n)\n",
    "print(decrypt_text)\n",
    "print(decrypt_crt)"
   ]
  },
  {
   "cell_type": "code",
   "execution_count": 696,
   "metadata": {},
   "outputs": [
    {
     "data": {
      "text/plain": [
       "107"
      ]
     },
     "execution_count": 696,
     "metadata": {},
     "output_type": "execute_result"
    }
   ],
   "source": [
    "len(int_to_list(n)) + len(int_to_list(plain_text))\n",
    "\n"
   ]
  }
 ],
 "metadata": {
  "kernelspec": {
   "display_name": "Python 3",
   "language": "python",
   "name": "python3"
  },
  "language_info": {
   "codemirror_mode": {
    "name": "ipython",
    "version": 3
   },
   "file_extension": ".py",
   "mimetype": "text/x-python",
   "name": "python",
   "nbconvert_exporter": "python",
   "pygments_lexer": "ipython3",
   "version": "3.6.8"
  }
 },
 "nbformat": 4,
 "nbformat_minor": 4
}
